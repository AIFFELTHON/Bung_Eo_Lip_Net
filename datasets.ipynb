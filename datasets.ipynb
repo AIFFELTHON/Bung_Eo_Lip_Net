{
 "cells": [
  {
   "cell_type": "markdown",
   "metadata": {},
   "source": [
    "# DATASET 관련 처리"
   ]
  },
  {
   "cell_type": "markdown",
   "metadata": {},
   "source": [
    "## 라이브러리"
   ]
  },
  {
   "cell_type": "code",
   "execution_count": 1,
   "metadata": {},
   "outputs": [],
   "source": [
    "import os\n",
    "import glob\n",
    "from pathlib import Path\n",
    "\n",
    "import zipfile\n",
    "import xlrd\n",
    "import openpyxl\n",
    "import json\n",
    "import re\n",
    "from tqdm import notebook\n",
    "\n",
    "import tensorflow as tf\n",
    "import pandas as pd\n",
    "import numpy as np\n",
    "\n",
    "import dlib\n",
    "from PIL import Image\n",
    "import matplotlib.pyplot as plt\n",
    "import matplotlib.image as img\n",
    "import cv2"
   ]
  },
  {
   "cell_type": "markdown",
   "metadata": {},
   "source": [
    "## WORD_LIST"
   ]
  },
  {
   "cell_type": "code",
   "execution_count": null,
   "metadata": {},
   "outputs": [],
   "source": [
    "!pip install xlrd"
   ]
  },
  {
   "cell_type": "code",
   "execution_count": null,
   "metadata": {},
   "outputs": [],
   "source": [
    "!pip install openpyxl"
   ]
  },
  {
   "cell_type": "code",
   "execution_count": 13,
   "metadata": {},
   "outputs": [],
   "source": [
    "KOREAN_WORD_XLS = 'datasets/한국어 학습용 어휘 목록.xls'"
   ]
  },
  {
   "cell_type": "markdown",
   "metadata": {},
   "source": [
    "- xlrd 사용"
   ]
  },
  {
   "cell_type": "code",
   "execution_count": 14,
   "metadata": {},
   "outputs": [],
   "source": [
    "# xls 파일 읽으려면 openpyxl 이 아니라 xlrd 라이브러리를 설치해야 함\n",
    "wb = xlrd.open_workbook(KOREAN_WORD_XLS)\n",
    "ws = wb.sheet_by_index(0)  # 엑셀 첫 번째 시트 불러오기\n",
    "rows = ws.nrows  # 첫 번째 시트 행 수\n",
    "cols = ws.ncols  # 첫 번째 시트 열 수\n",
    "\n",
    "# 행별 저장 리스트\n",
    "ws_data = []\n",
    "for i in range(rows):\n",
    "    ws_data.append(ws.row_values(i))\n",
    "\n",
    "# 행별 저장 딕셔너리\n",
    "ws_dict = {}\n",
    "for row_num in range(rows):\n",
    "    ws_dict[row_num] = {}\n",
    "    for col in range(cols):\n",
    "        ws_dict[row_num][col] = ws.cell_value(row_num, col)"
   ]
  },
  {
   "cell_type": "markdown",
   "metadata": {},
   "source": [
    "- pandas 사용"
   ]
  },
  {
   "cell_type": "code",
   "execution_count": 15,
   "metadata": {},
   "outputs": [
    {
     "data": {
      "text/html": [
       "<div>\n",
       "<style scoped>\n",
       "    .dataframe tbody tr th:only-of-type {\n",
       "        vertical-align: middle;\n",
       "    }\n",
       "\n",
       "    .dataframe tbody tr th {\n",
       "        vertical-align: top;\n",
       "    }\n",
       "\n",
       "    .dataframe thead th {\n",
       "        text-align: right;\n",
       "    }\n",
       "</style>\n",
       "<table border=\"1\" class=\"dataframe\">\n",
       "  <thead>\n",
       "    <tr style=\"text-align: right;\">\n",
       "      <th></th>\n",
       "      <th>순위</th>\n",
       "      <th>단어</th>\n",
       "      <th>품사</th>\n",
       "      <th>풀이</th>\n",
       "      <th>등급</th>\n",
       "    </tr>\n",
       "  </thead>\n",
       "  <tbody>\n",
       "    <tr>\n",
       "      <th>0</th>\n",
       "      <td>1195.0</td>\n",
       "      <td>가게</td>\n",
       "      <td>명</td>\n",
       "      <td>NaN</td>\n",
       "      <td>A</td>\n",
       "    </tr>\n",
       "    <tr>\n",
       "      <th>1</th>\n",
       "      <td>898.0</td>\n",
       "      <td>가격03</td>\n",
       "      <td>명</td>\n",
       "      <td>價格</td>\n",
       "      <td>B</td>\n",
       "    </tr>\n",
       "    <tr>\n",
       "      <th>2</th>\n",
       "      <td>2986.0</td>\n",
       "      <td>가구03</td>\n",
       "      <td>명</td>\n",
       "      <td>家口</td>\n",
       "      <td>C</td>\n",
       "    </tr>\n",
       "    <tr>\n",
       "      <th>3</th>\n",
       "      <td>7434.0</td>\n",
       "      <td>가구04</td>\n",
       "      <td>명</td>\n",
       "      <td>家具</td>\n",
       "      <td>B</td>\n",
       "    </tr>\n",
       "    <tr>\n",
       "      <th>4</th>\n",
       "      <td>4964.0</td>\n",
       "      <td>가까워지다</td>\n",
       "      <td>동</td>\n",
       "      <td>NaN</td>\n",
       "      <td>B</td>\n",
       "    </tr>\n",
       "    <tr>\n",
       "      <th>...</th>\n",
       "      <td>...</td>\n",
       "      <td>...</td>\n",
       "      <td>...</td>\n",
       "      <td>...</td>\n",
       "      <td>...</td>\n",
       "    </tr>\n",
       "    <tr>\n",
       "      <th>5960</th>\n",
       "      <td>489.0</td>\n",
       "      <td>힘들다</td>\n",
       "      <td>형</td>\n",
       "      <td>NaN</td>\n",
       "      <td>A</td>\n",
       "    </tr>\n",
       "    <tr>\n",
       "      <th>5961</th>\n",
       "      <td>10357.0</td>\n",
       "      <td>힘들어하다</td>\n",
       "      <td>동</td>\n",
       "      <td>NaN</td>\n",
       "      <td>C</td>\n",
       "    </tr>\n",
       "    <tr>\n",
       "      <th>5962</th>\n",
       "      <td>3305.0</td>\n",
       "      <td>힘쓰다</td>\n",
       "      <td>동</td>\n",
       "      <td>NaN</td>\n",
       "      <td>C</td>\n",
       "    </tr>\n",
       "    <tr>\n",
       "      <th>5963</th>\n",
       "      <td>9013.0</td>\n",
       "      <td>힘없이</td>\n",
       "      <td>부</td>\n",
       "      <td>NaN</td>\n",
       "      <td>C</td>\n",
       "    </tr>\n",
       "    <tr>\n",
       "      <th>5964</th>\n",
       "      <td>3846.0</td>\n",
       "      <td>힘차다</td>\n",
       "      <td>형</td>\n",
       "      <td>NaN</td>\n",
       "      <td>C</td>\n",
       "    </tr>\n",
       "  </tbody>\n",
       "</table>\n",
       "<p>5965 rows × 5 columns</p>\n",
       "</div>"
      ],
      "text/plain": [
       "           순위     단어 품사   풀이 등급\n",
       "0      1195.0     가게  명  NaN  A\n",
       "1       898.0   가격03  명   價格  B\n",
       "2      2986.0   가구03  명   家口  C\n",
       "3      7434.0   가구04  명   家具  B\n",
       "4      4964.0  가까워지다  동  NaN  B\n",
       "...       ...    ... ..  ... ..\n",
       "5960    489.0    힘들다  형  NaN  A\n",
       "5961  10357.0  힘들어하다  동  NaN  C\n",
       "5962   3305.0    힘쓰다  동  NaN  C\n",
       "5963   9013.0    힘없이  부  NaN  C\n",
       "5964   3846.0    힘차다  형  NaN  C\n",
       "\n",
       "[5965 rows x 5 columns]"
      ]
     },
     "execution_count": 15,
     "metadata": {},
     "output_type": "execute_result"
    }
   ],
   "source": [
    "pd_xls = pd.read_excel(KOREAN_WORD_XLS)\n",
    "pd_xls"
   ]
  },
  {
   "cell_type": "code",
   "execution_count": 76,
   "metadata": {},
   "outputs": [
    {
     "data": {
      "text/html": [
       "<div>\n",
       "<style scoped>\n",
       "    .dataframe tbody tr th:only-of-type {\n",
       "        vertical-align: middle;\n",
       "    }\n",
       "\n",
       "    .dataframe tbody tr th {\n",
       "        vertical-align: top;\n",
       "    }\n",
       "\n",
       "    .dataframe thead th {\n",
       "        text-align: right;\n",
       "    }\n",
       "</style>\n",
       "<table border=\"1\" class=\"dataframe\">\n",
       "  <thead>\n",
       "    <tr style=\"text-align: right;\">\n",
       "      <th></th>\n",
       "      <th>단어</th>\n",
       "    </tr>\n",
       "  </thead>\n",
       "  <tbody>\n",
       "    <tr>\n",
       "      <th>0</th>\n",
       "      <td>가게</td>\n",
       "    </tr>\n",
       "    <tr>\n",
       "      <th>1</th>\n",
       "      <td>가격03</td>\n",
       "    </tr>\n",
       "    <tr>\n",
       "      <th>2</th>\n",
       "      <td>가구03</td>\n",
       "    </tr>\n",
       "    <tr>\n",
       "      <th>3</th>\n",
       "      <td>가구04</td>\n",
       "    </tr>\n",
       "    <tr>\n",
       "      <th>4</th>\n",
       "      <td>가까워지다</td>\n",
       "    </tr>\n",
       "    <tr>\n",
       "      <th>...</th>\n",
       "      <td>...</td>\n",
       "    </tr>\n",
       "    <tr>\n",
       "      <th>5960</th>\n",
       "      <td>힘들다</td>\n",
       "    </tr>\n",
       "    <tr>\n",
       "      <th>5961</th>\n",
       "      <td>힘들어하다</td>\n",
       "    </tr>\n",
       "    <tr>\n",
       "      <th>5962</th>\n",
       "      <td>힘쓰다</td>\n",
       "    </tr>\n",
       "    <tr>\n",
       "      <th>5963</th>\n",
       "      <td>힘없이</td>\n",
       "    </tr>\n",
       "    <tr>\n",
       "      <th>5964</th>\n",
       "      <td>힘차다</td>\n",
       "    </tr>\n",
       "  </tbody>\n",
       "</table>\n",
       "<p>5965 rows × 1 columns</p>\n",
       "</div>"
      ],
      "text/plain": [
       "         단어\n",
       "0        가게\n",
       "1      가격03\n",
       "2      가구03\n",
       "3      가구04\n",
       "4     가까워지다\n",
       "...     ...\n",
       "5960    힘들다\n",
       "5961  힘들어하다\n",
       "5962    힘쓰다\n",
       "5963    힘없이\n",
       "5964    힘차다\n",
       "\n",
       "[5965 rows x 1 columns]"
      ]
     },
     "execution_count": 76,
     "metadata": {},
     "output_type": "execute_result"
    }
   ],
   "source": [
    "pd_xls[['단어']]"
   ]
  },
  {
   "cell_type": "code",
   "execution_count": 78,
   "metadata": {},
   "outputs": [
    {
     "data": {
      "text/html": [
       "<div>\n",
       "<style scoped>\n",
       "    .dataframe tbody tr th:only-of-type {\n",
       "        vertical-align: middle;\n",
       "    }\n",
       "\n",
       "    .dataframe tbody tr th {\n",
       "        vertical-align: top;\n",
       "    }\n",
       "\n",
       "    .dataframe thead th {\n",
       "        text-align: right;\n",
       "    }\n",
       "</style>\n",
       "<table border=\"1\" class=\"dataframe\">\n",
       "  <thead>\n",
       "    <tr style=\"text-align: right;\">\n",
       "      <th></th>\n",
       "      <th>단어</th>\n",
       "      <th>품사</th>\n",
       "      <th>등급</th>\n",
       "    </tr>\n",
       "  </thead>\n",
       "  <tbody>\n",
       "    <tr>\n",
       "      <th>0</th>\n",
       "      <td>가게</td>\n",
       "      <td>명</td>\n",
       "      <td>A</td>\n",
       "    </tr>\n",
       "    <tr>\n",
       "      <th>1</th>\n",
       "      <td>가격03</td>\n",
       "      <td>명</td>\n",
       "      <td>B</td>\n",
       "    </tr>\n",
       "    <tr>\n",
       "      <th>2</th>\n",
       "      <td>가구03</td>\n",
       "      <td>명</td>\n",
       "      <td>C</td>\n",
       "    </tr>\n",
       "    <tr>\n",
       "      <th>3</th>\n",
       "      <td>가구04</td>\n",
       "      <td>명</td>\n",
       "      <td>B</td>\n",
       "    </tr>\n",
       "    <tr>\n",
       "      <th>4</th>\n",
       "      <td>가까워지다</td>\n",
       "      <td>동</td>\n",
       "      <td>B</td>\n",
       "    </tr>\n",
       "    <tr>\n",
       "      <th>...</th>\n",
       "      <td>...</td>\n",
       "      <td>...</td>\n",
       "      <td>...</td>\n",
       "    </tr>\n",
       "    <tr>\n",
       "      <th>5960</th>\n",
       "      <td>힘들다</td>\n",
       "      <td>형</td>\n",
       "      <td>A</td>\n",
       "    </tr>\n",
       "    <tr>\n",
       "      <th>5961</th>\n",
       "      <td>힘들어하다</td>\n",
       "      <td>동</td>\n",
       "      <td>C</td>\n",
       "    </tr>\n",
       "    <tr>\n",
       "      <th>5962</th>\n",
       "      <td>힘쓰다</td>\n",
       "      <td>동</td>\n",
       "      <td>C</td>\n",
       "    </tr>\n",
       "    <tr>\n",
       "      <th>5963</th>\n",
       "      <td>힘없이</td>\n",
       "      <td>부</td>\n",
       "      <td>C</td>\n",
       "    </tr>\n",
       "    <tr>\n",
       "      <th>5964</th>\n",
       "      <td>힘차다</td>\n",
       "      <td>형</td>\n",
       "      <td>C</td>\n",
       "    </tr>\n",
       "  </tbody>\n",
       "</table>\n",
       "<p>5965 rows × 3 columns</p>\n",
       "</div>"
      ],
      "text/plain": [
       "         단어 품사 등급\n",
       "0        가게  명  A\n",
       "1      가격03  명  B\n",
       "2      가구03  명  C\n",
       "3      가구04  명  B\n",
       "4     가까워지다  동  B\n",
       "...     ... .. ..\n",
       "5960    힘들다  형  A\n",
       "5961  힘들어하다  동  C\n",
       "5962    힘쓰다  동  C\n",
       "5963    힘없이  부  C\n",
       "5964    힘차다  형  C\n",
       "\n",
       "[5965 rows x 3 columns]"
      ]
     },
     "execution_count": 78,
     "metadata": {},
     "output_type": "execute_result"
    }
   ],
   "source": [
    "pd_xls.iloc[:, [1,2,4]]"
   ]
  },
  {
   "cell_type": "markdown",
   "metadata": {},
   "source": [
    "## AI Hub Dataset"
   ]
  },
  {
   "cell_type": "markdown",
   "metadata": {},
   "source": [
    "### 파일명: `(word_id)_(actor_id)_(camera_id)_(frame_idx).ext`\n",
    "- word_id = 동작별 고유 ID 값\n",
    "- actor_id = 모델 고유 ID 값\n",
    "- camera_id = 카메라 ID(C:center, D:down, L:left, R:right, U:up)\n",
    "- frame_idx = 추출 이미지 프레임 번호"
   ]
  },
  {
   "cell_type": "code",
   "execution_count": 16,
   "metadata": {},
   "outputs": [],
   "source": [
    "# AI HUB Dataset 파일명 형식\n",
    "file_name_format = {\n",
    "    'word_id': 0,\n",
    "    'actor_id': 0,\n",
    "    'camera_id': 0,\n",
    "    'frame_idx': 0,\n",
    "}"
   ]
  },
  {
   "cell_type": "markdown",
   "metadata": {},
   "source": [
    "### 데이터 개수 & 구성"
   ]
  },
  {
   "cell_type": "markdown",
   "metadata": {},
   "source": [
    "- word_id: 단어 발화 종류 한국어 학습용 어휘 1000개\n",
    "    - 단어별 품사 개수\n",
    "\n",
    "|감탄사|고유명사|관형사|대명사|동사|보조용언|\n",
    "|:---:|:---:|:---:|:---:|:---:|:---:|\n",
    "|12|21|25|25|151|2|\n",
    "|부사|수사|의존 명사|형용사|명사|생활용어|\n",
    "|61|35|28|69|514|57|\n",
    "\n",
    "- actor_id: 195명\n",
    "    - 남자 93명\n",
    "    - 여자 102명\n",
    "\n",
    "|10대|20대|30대|40대|50대|60대 이상|\n",
    "|:---:|:---:|:---:|:---:|:---:|:---:|\n",
    "|32|36|31|31|36|29|\n",
    "\n",
    "- camera_id: C, D, L, R, U\n",
    "\n",
    "|C|D|L|R|U|\n",
    "|:---:|:---:|:---:|:---:|:---:|\n",
    "|Center|Down|Left|Right|Up|\n",
    "\n",
    "- frame_idx: 단어당 1초 내외 30fps"
   ]
  },
  {
   "cell_type": "code",
   "execution_count": 17,
   "metadata": {},
   "outputs": [],
   "source": [
    "# lip_dataword_list.txt\n",
    "AI_HUB_LIP_DATAWORD_TXT = 'datasets/mouth/lip_dataword_list.txt'\n",
    "\n",
    "lip_dataword_idx = []\n",
    "if os.path.exists(AI_HUB_LIP_DATAWORD_TXT):\n",
    "    with open(AI_HUB_LIP_DATAWORD_TXT) as txt_file:\n",
    "        lip_dataword_idx = list(map(lambda x: x.strip(), txt_file.readlines()))"
   ]
  },
  {
   "cell_type": "code",
   "execution_count": 18,
   "metadata": {},
   "outputs": [],
   "source": [
    "# AI HUB 데이터셋 경로\n",
    "DATASET_AI_HUB_ROOT = 'datasets/mouth/Sample'\n",
    "\n",
    "# directory 없으면 새로 생성\n",
    "try:\n",
    "    if not os.path.exists(DATASET_AI_HUB_ROOT):\n",
    "        os.makedirs(DATASET_AI_HUB_ROOT)\n",
    "except OSError as e:\n",
    "    print(e)\n",
    "\n",
    "# 데이터셋 폴더명 리스트\n",
    "dataset_ai_hub_dir_list = os.listdir(DATASET_AI_HUB_ROOT)"
   ]
  },
  {
   "cell_type": "code",
   "execution_count": null,
   "metadata": {},
   "outputs": [],
   "source": [
    "for datasets_dir in dataset_ai_hub_dir_list:\n",
    "    datasets_dir_dir = os.listdir(os.path.join(DATASET_AI_HUB_ROOT, datasets_dir))\n",
    "    for datasets_split in datasets_dir_dir:\n",
    "        datasets_file_name = datasets_split.split('_')\n",
    "        print(datasets_file_name)"
   ]
  },
  {
   "cell_type": "markdown",
   "metadata": {},
   "source": [
    "- JSON 파일\n",
    "    - `(word_id)_(actor_id)_(camera_id)_(frame_idx).json`\n",
    "        - word_id = 동작별 고유 ID 값\n",
    "        - actor_id = 모델 고유 ID 값\n",
    "        - camera_id = 카메라 ID(C:center, D:down, L:left, R:right, U:up)\n",
    "        - frame_idx = 추출 이미지 프레임 번호\n",
    "    - 데이터 포맷: json 파일 포맷\n",
    "    - 데이터 구성: 24개 입술 특징 위치/키포인트 (x,y)<br>![](datasets/AI_HUB_%EC%9E%85%EC%88%A0_%ED%82%A4%ED%8F%AC%EC%9D%B8%ED%8A%B8.PNG)\n",
    "        - 입술 inner line: 총 12개 특징점, index 0 ~ 11\n",
    "        - 입술 outer line: 총 12개 특징점, index 12 ~ 23\n",
    "\n",
    "|index|입술 정보|index|입술 정보|\n",
    "|:---:|:---:|:---:|:---:|\n",
    "|0|outer_0_left|12|inner_0_left|\n",
    "|1|outer_1|13|inner_1|\n",
    "|2|outer_2|14|inner_2|\n",
    "|3|outer_3_top|15|inner_3_top|\n",
    "|4|outer_4|16|inner_4|\n",
    "|5|outer_5|17|inner_5|\n",
    "|6|outer_6_right|18|inner_6_right|\n",
    "|7|outer_7|19|inner_7|\n",
    "|8|outer_8|20|inner_8|\n",
    "|9|outer_9_bottom|21|inner_9_bottom|\n",
    "|10|outer_10|22|inner_10|\n",
    "|11|outer_11|23|inner_11|"
   ]
  },
  {
   "cell_type": "code",
   "execution_count": 19,
   "metadata": {},
   "outputs": [
    {
     "data": {
      "text/plain": [
       "dict_keys(['categories', 'licenses', 'info', 'annotations', 'videos', 'images', 'meshs', 'actor'])"
      ]
     },
     "execution_count": 19,
     "metadata": {},
     "output_type": "execute_result"
    }
   ],
   "source": [
    "json_path = 'datasets/mouth/Sample/0001_M003/0001_M003_C/0001_M003_C_0000000.json'\n",
    "with open(json_path) as label:\n",
    "    json_data = json.load(label)\n",
    "\n",
    "json_data.keys()"
   ]
  },
  {
   "cell_type": "code",
   "execution_count": 20,
   "metadata": {},
   "outputs": [
    {
     "data": {
      "text/plain": [
       "[{'type': 'Lip',\n",
       "  'type_id': 0,\n",
       "  'keypoints': ['outer_0_left',\n",
       "   'outer_1',\n",
       "   'outer_2',\n",
       "   'outer_3_top',\n",
       "   'outer_4',\n",
       "   'outer_5',\n",
       "   'outer_6_right',\n",
       "   'outer_7',\n",
       "   'outer_8',\n",
       "   'outer_9_bottom',\n",
       "   'outer_10',\n",
       "   'outer_11',\n",
       "   'inner_0_left',\n",
       "   'inner_1',\n",
       "   'inner_2',\n",
       "   'inner_3_top',\n",
       "   'inner_4',\n",
       "   'inner_5',\n",
       "   'inner_6_right',\n",
       "   'inner_7',\n",
       "   'inner_8',\n",
       "   'inner_9_bottom',\n",
       "   'inner_10',\n",
       "   'inner_11'],\n",
       "  'segments': [[0, 11], [12, 23]]}]"
      ]
     },
     "execution_count": 20,
     "metadata": {},
     "output_type": "execute_result"
    }
   ],
   "source": [
    "json_data['categories']"
   ]
  },
  {
   "cell_type": "code",
   "execution_count": 21,
   "metadata": {},
   "outputs": [
    {
     "data": {
      "text/plain": [
       "[{'id': 230615,\n",
       "  'image_name': '0001_M003_C_0000000.jpg',\n",
       "  'image_id': 246541,\n",
       "  'video_id': 42261,\n",
       "  'bbox': [725, 894, 113, 63],\n",
       "  'segmentation': [[725,\n",
       "    918,\n",
       "    748,\n",
       "    903,\n",
       "    766,\n",
       "    894,\n",
       "    783,\n",
       "    899,\n",
       "    801,\n",
       "    895,\n",
       "    819,\n",
       "    902,\n",
       "    838,\n",
       "    910,\n",
       "    829,\n",
       "    935,\n",
       "    811,\n",
       "    952,\n",
       "    785,\n",
       "    957,\n",
       "    757,\n",
       "    953,\n",
       "    737,\n",
       "    937],\n",
       "   [727,\n",
       "    919,\n",
       "    748,\n",
       "    908,\n",
       "    763,\n",
       "    906,\n",
       "    783,\n",
       "    908,\n",
       "    801,\n",
       "    907,\n",
       "    819,\n",
       "    906,\n",
       "    835,\n",
       "    912,\n",
       "    824,\n",
       "    926,\n",
       "    807,\n",
       "    934,\n",
       "    784,\n",
       "    939,\n",
       "    763,\n",
       "    939,\n",
       "    743,\n",
       "    932]],\n",
       "  'area': [4983, 2568],\n",
       "  'actor_id': 'M003',\n",
       "  'word': '그',\n",
       "  'word_id': 1,\n",
       "  'num_keypoints': 24,\n",
       "  '2D keypoints': [725,\n",
       "   918,\n",
       "   2,\n",
       "   748,\n",
       "   903,\n",
       "   2,\n",
       "   766,\n",
       "   894,\n",
       "   2,\n",
       "   783,\n",
       "   899,\n",
       "   2,\n",
       "   801,\n",
       "   895,\n",
       "   2,\n",
       "   819,\n",
       "   902,\n",
       "   2,\n",
       "   838,\n",
       "   910,\n",
       "   2,\n",
       "   829,\n",
       "   935,\n",
       "   2,\n",
       "   811,\n",
       "   952,\n",
       "   2,\n",
       "   785,\n",
       "   957,\n",
       "   2,\n",
       "   757,\n",
       "   953,\n",
       "   2,\n",
       "   737,\n",
       "   937,\n",
       "   2,\n",
       "   727,\n",
       "   919,\n",
       "   2,\n",
       "   748,\n",
       "   908,\n",
       "   2,\n",
       "   763,\n",
       "   906,\n",
       "   2,\n",
       "   783,\n",
       "   908,\n",
       "   2,\n",
       "   801,\n",
       "   907,\n",
       "   2,\n",
       "   819,\n",
       "   906,\n",
       "   2,\n",
       "   835,\n",
       "   912,\n",
       "   2,\n",
       "   824,\n",
       "   926,\n",
       "   2,\n",
       "   807,\n",
       "   934,\n",
       "   2,\n",
       "   784,\n",
       "   939,\n",
       "   2,\n",
       "   763,\n",
       "   939,\n",
       "   2,\n",
       "   743,\n",
       "   932,\n",
       "   2]}]"
      ]
     },
     "execution_count": 21,
     "metadata": {},
     "output_type": "execute_result"
    }
   ],
   "source": [
    "json_data['annotations']"
   ]
  },
  {
   "cell_type": "code",
   "execution_count": 60,
   "metadata": {},
   "outputs": [
    {
     "data": {
      "text/plain": [
       "[{'id': 42261,\n",
       "  'frame_rate': 30.0,\n",
       "  'width': 1600,\n",
       "  'height': 1200,\n",
       "  'camera_id': 0,\n",
       "  'parameters': {'intrinsic': [2802.3299,\n",
       "    2794.0078,\n",
       "    797.66935,\n",
       "    618.9035,\n",
       "    0.0,\n",
       "    0.0,\n",
       "    0.0,\n",
       "    0.0],\n",
       "   'extrinsic': [0.99999859,\n",
       "    0.00011165856,\n",
       "    -0.0016778532,\n",
       "    117.531,\n",
       "    -0.0001200091,\n",
       "    0.9999876,\n",
       "    -0.0049776439,\n",
       "    -0.28542619,\n",
       "    0.0016772766,\n",
       "    0.0049778382,\n",
       "    0.9999862,\n",
       "    -1.0499686]},\n",
       "  'file_name': '0001_M003_C.mp4',\n",
       "  'date_captured': '2020-10-14 00:00:00'}]"
      ]
     },
     "execution_count": 60,
     "metadata": {},
     "output_type": "execute_result"
    }
   ],
   "source": [
    "json_data['videos']"
   ]
  },
  {
   "cell_type": "code",
   "execution_count": 59,
   "metadata": {},
   "outputs": [
    {
     "data": {
      "text/plain": [
       "[{'id': 246541,\n",
       "  'file_name': '0001_M003_C_0000000.jpg',\n",
       "  'width': 1600,\n",
       "  'height': 1200,\n",
       "  'frame_index': 0}]"
      ]
     },
     "execution_count": 59,
     "metadata": {},
     "output_type": "execute_result"
    }
   ],
   "source": [
    "json_data['images']"
   ]
  },
  {
   "cell_type": "code",
   "execution_count": 58,
   "metadata": {},
   "outputs": [
    {
     "data": {
      "text/plain": [
       "[{'id': 'M003', 'sex': 'female', 'age': 60}]"
      ]
     },
     "execution_count": 58,
     "metadata": {},
     "output_type": "execute_result"
    }
   ],
   "source": [
    "json_data['actor']"
   ]
  },
  {
   "cell_type": "markdown",
   "metadata": {},
   "source": [
    "- JPG 파일\n",
    "    - `(word_id)_(actor_id)_(camera_id)_(frame_idx).jpg`\n",
    "        - word_id = 동작별 고유 ID 값\n",
    "        - actor_id = 모델 고유 ID 값\n",
    "        - camera_id = 카메라 ID(C:center, D:down, L:left, R:right, U:up)\n",
    "        - frame_idx = 추출 이미지 프레임 번호\n",
    "    - 데이터 포맷: jpg 파일 포맷\n",
    "    - 데이터 구성: Full-HD 영상, 카메라 파라미터    "
   ]
  },
  {
   "cell_type": "code",
   "execution_count": 41,
   "metadata": {},
   "outputs": [
    {
     "data": {
      "text/plain": [
       "'datasets/mouth/Sample/0001_M003/0001_M003_C/0001_M003_C_0000000.jpg'"
      ]
     },
     "execution_count": 41,
     "metadata": {},
     "output_type": "execute_result"
    }
   ],
   "source": [
    "image_name = json_data['annotations'][0]['image_name']\n",
    "jpg_path = f\"datasets/mouth/Sample/0001_M003/0001_M003_C/{image_name}\"\n",
    "jpg_path"
   ]
  },
  {
   "cell_type": "code",
   "execution_count": 61,
   "metadata": {},
   "outputs": [
    {
     "data": {
      "text/plain": [
       "'그'"
      ]
     },
     "execution_count": 61,
     "metadata": {},
     "output_type": "execute_result"
    }
   ],
   "source": [
    "word = json_data['annotations'][0]['word']\n",
    "word"
   ]
  },
  {
   "cell_type": "code",
   "execution_count": 46,
   "metadata": {},
   "outputs": [
    {
     "data": {
      "image/png": "[encoded data removed]",
      "text/plain": [
       "<Figure size 432x288 with 1 Axes>"
      ]
     },
     "metadata": {
      "needs_background": "light"
     },
     "output_type": "display_data"
    }
   ],
   "source": [
    "image = img.imread(jpg_path)\n",
    "plt.imshow(image)\n",
    "plt.axis(\"off\")\n",
    "plt.show()"
   ]
  },
  {
   "cell_type": "markdown",
   "metadata": {},
   "source": [
    "- bbox 시각화"
   ]
  },
  {
   "cell_type": "code",
   "execution_count": 57,
   "metadata": {},
   "outputs": [
    {
     "data": {
      "image/png": "[encoded data removed]",
      "text/plain": [
       "<Figure size 432x288 with 1 Axes>"
      ]
     },
     "metadata": {
      "needs_background": "light"
     },
     "output_type": "display_data"
    }
   ],
   "source": [
    "image = cv2.imread(jpg_path)\n",
    "orignal = image.copy()\n",
    "\n",
    "image = cv2.cvtColor(image, cv2.COLOR_BGR2RGB)\n",
    "left_x, left_y, right_x, right_y = json_data['annotations'][0]['bbox']  # [x,y,x,y]\n",
    "cv2.rectangle(image, (left_x, left_y), (right_x, right_y), (0,255,0), 5)\n",
    "plt.imshow(image)\n",
    "plt.axis(\"off\")\n",
    "plt.show()"
   ]
  },
  {
   "cell_type": "markdown",
   "metadata": {},
   "source": [
    "- 입술 keypoint 시각화"
   ]
  },
  {
   "cell_type": "code",
   "execution_count": 65,
   "metadata": {},
   "outputs": [
    {
     "data": {
      "text/plain": [
       "{0: 'outer_0_left',\n",
       " 1: 'outer_1',\n",
       " 2: 'outer_2',\n",
       " 3: 'outer_3_top',\n",
       " 4: 'outer_4',\n",
       " 5: 'outer_5',\n",
       " 6: 'outer_6_right',\n",
       " 7: 'outer_7',\n",
       " 8: 'outer_8',\n",
       " 9: 'outer_9_bottom',\n",
       " 10: 'outer_10',\n",
       " 11: 'outer_11',\n",
       " 12: 'inner_0_left',\n",
       " 13: 'inner_1',\n",
       " 14: 'inner_2',\n",
       " 15: 'inner_3_top',\n",
       " 16: 'inner_4',\n",
       " 17: 'inner_5',\n",
       " 18: 'inner_6_right',\n",
       " 19: 'inner_7',\n",
       " 20: 'inner_8',\n",
       " 21: 'inner_9_bottom',\n",
       " 22: 'inner_10',\n",
       " 23: 'inner_11'}"
      ]
     },
     "execution_count": 65,
     "metadata": {},
     "output_type": "execute_result"
    }
   ],
   "source": [
    "num_keypoints = json_data['annotations'][0]['num_keypoints']\n",
    "keypoints = json_data['categories'][0]['keypoints']\n",
    "\n",
    "keypoints_dict = {num: keypoint for num, keypoint in zip(range(num_keypoints), keypoints)}\n",
    "keypoints_dict"
   ]
  },
  {
   "cell_type": "code",
   "execution_count": 83,
   "metadata": {},
   "outputs": [
    {
     "data": {
      "text/plain": [
       "{0: [725, 918],\n",
       " 1: [748, 903],\n",
       " 2: [766, 894],\n",
       " 3: [783, 899],\n",
       " 4: [801, 895],\n",
       " 5: [819, 902],\n",
       " 6: [838, 910],\n",
       " 7: [829, 935],\n",
       " 8: [811, 952],\n",
       " 9: [785, 957],\n",
       " 10: [757, 953],\n",
       " 11: [737, 937],\n",
       " 12: [727, 919],\n",
       " 13: [748, 908],\n",
       " 14: [763, 906],\n",
       " 15: [783, 908],\n",
       " 16: [801, 907],\n",
       " 17: [819, 906],\n",
       " 18: [835, 912],\n",
       " 19: [824, 926],\n",
       " 20: [807, 934],\n",
       " 21: [784, 939],\n",
       " 22: [763, 939],\n",
       " 23: [743, 932]}"
      ]
     },
     "execution_count": 83,
     "metadata": {},
     "output_type": "execute_result"
    }
   ],
   "source": [
    "keypoints_pos = json_data['annotations'][0]['2D keypoints']\n",
    "pos_dict = {\n",
    "    'x': 0,\n",
    "    'y': 0,\n",
    "    'z': 0\n",
    "}\n",
    "keypoints_pos_dict = {}\n",
    "poses = []\n",
    "for i, pos in enumerate(keypoints_pos):\n",
    "    if pos == 2:\n",
    "        keypoints_pos_dict[i//3] = poses\n",
    "        poses = []\n",
    "    else:\n",
    "        poses.append(pos)\n",
    "\n",
    "keypoints_pos_dict"
   ]
  },
  {
   "cell_type": "code",
   "execution_count": 108,
   "metadata": {},
   "outputs": [
    {
     "data": {
      "image/png": "[encoded data removed]",
      "text/plain": [
       "<Figure size 432x288 with 1 Axes>"
      ]
     },
     "metadata": {
      "needs_background": "light"
     },
     "output_type": "display_data"
    }
   ],
   "source": [
    "image = cv2.imread(jpg_path)\n",
    "orignal = image.copy()\n",
    "\n",
    "image = cv2.cvtColor(image, cv2.COLOR_BGR2RGB)\n",
    "\n",
    "for i, (x,y) in keypoints_pos_dict.items():\n",
    "    if i < 12:  # inner (0 ~ 11)\n",
    "        color = (255,255,255)\n",
    "    else:  # outer (12 ~ 23)\n",
    "        color = (255,0,0)\n",
    "    cv2.circle(image, (x,y), 3, color, 3)\n",
    "\n",
    "plt.imshow(image)\n",
    "plt.axis(\"off\")\n",
    "plt.show()"
   ]
  },
  {
   "cell_type": "markdown",
   "metadata": {},
   "source": [
    "- 입술 bounding box 그리기"
   ]
  },
  {
   "cell_type": "code",
   "execution_count": 109,
   "metadata": {},
   "outputs": [
    {
     "data": {
      "image/png": "[encoded data removed]",
      "text/plain": [
       "<Figure size 432x288 with 1 Axes>"
      ]
     },
     "metadata": {
      "needs_background": "light"
     },
     "output_type": "display_data"
    }
   ],
   "source": [
    "image = cv2.imread(jpg_path)\n",
    "orignal = image.copy()\n",
    "\n",
    "image = cv2.cvtColor(image, cv2.COLOR_BGR2RGB)\n",
    "\n",
    "x_list = list(zip(*keypoints_pos_dict.values()))[0]\n",
    "y_list = list(zip(*keypoints_pos_dict.values()))[1]\n",
    "\n",
    "left_x = min(x_list)\n",
    "left_y = min(y_list)\n",
    "right_x = max(x_list)\n",
    "right_y = max(y_list)\n",
    "cv2.rectangle(image, (left_x, left_y), (right_x, right_y), (0,255,0), 5)\n",
    "\n",
    "plt.imshow(image)\n",
    "plt.axis(\"off\")\n",
    "plt.show()"
   ]
  },
  {
   "cell_type": "markdown",
   "metadata": {},
   "source": [
    "## Youtube Dataset"
   ]
  },
  {
   "cell_type": "markdown",
   "metadata": {},
   "source": [
    "1. Youtube 영상 저장\n",
    "2. Youtube 영상 처리\n",
    "    - 프레임 캡처\n",
    "    - tensor 변환"
   ]
  },
  {
   "cell_type": "markdown",
   "metadata": {},
   "source": [
    "- [Youtube 영상 저장 1](https://hleecaster.com/python-pytube/)"
   ]
  },
  {
   "cell_type": "code",
   "execution_count": null,
   "metadata": {},
   "outputs": [],
   "source": [
    "!pip install pytube"
   ]
  },
  {
   "cell_type": "code",
   "execution_count": null,
   "metadata": {},
   "outputs": [],
   "source": [
    "from pytube import YouTube\n",
    "\n",
    "DOWNLOAD_FOLDER = \"C:\\\\Users\\\\User\\\\Desktop\"\n",
    "url = \"https://www.youtube.com/watch?v=d6LGnVCL1_A\"\n",
    "\n",
    "yt = YouTube(url)\n",
    "\n",
    "# 저장\n",
    "stream = yt.streams.get_highest_resolution()\n",
    "stream.download(DOWNLOAD_FOLDER)\n",
    "\n",
    "# 정보 출력\n",
    "print(\"제목 : \", yt.title)\n",
    "print(\"길이 : \", yt.length)\n",
    "print(\"게시자 : \", yt.author)\n",
    "print(\"게시날짜 : \", yt.publish_date)\n",
    "print(\"조회수 : \", yt.views)\n",
    "print(\"키워드 : \", yt.keywords)\n",
    "print(\"설명 : \", yt.description)\n",
    "print(\"썸네일 : \", yt.thumbnail_url)"
   ]
  },
  {
   "cell_type": "code",
   "execution_count": null,
   "metadata": {},
   "outputs": [],
   "source": [
    "from pytube import Playlist\n",
    "\n",
    "DOWNLOAD_FOLDER = \"C:\\\\Users\\\\User\\\\Desktop\"\n",
    "p = Playlist('https://www.youtube.com/watch?v=ea7hkgs9DJo&list=PLsBObkGU9zQMirwoCV2lgHOl5fqXIlcxI')\n",
    "\n",
    "# 플레이리스트 영상 모두 저장\n",
    "for video in p.videos:\n",
    "    video.streams.first().download(DOWNLOAD_FOLDER)"
   ]
  },
  {
   "cell_type": "markdown",
   "metadata": {},
   "source": [
    "- [Youtube 영상 저장2](https://eehoeskrap.tistory.com/519)"
   ]
  },
  {
   "cell_type": "code",
   "execution_count": null,
   "metadata": {},
   "outputs": [],
   "source": [
    "import os\n",
    "import pytube  # pip install pytube\n",
    "from pytube.cli import on_progress\n",
    "\n",
    "url = \"유튜브 링크\"\n",
    "yt = pytube.YouTube(url, on_progress_callback=on_progress)\n",
    "print(yt.streams)\n",
    "save_dir = \"./\" # 저장경로\n",
    "yt.streams.filter(progressive=True, file_extension=\"mp4\")\\\n",
    "    .order_by(\"resolution\")\\\n",
    "    .desc()\\\n",
    "    .first()\\\n",
    "    .download(save_dir)"
   ]
  },
  {
   "cell_type": "markdown",
   "metadata": {},
   "source": [
    "- [Youtube 영상 처리](https://velog.io/@bangsy/Python-OpenCV-4)"
   ]
  },
  {
   "cell_type": "code",
   "execution_count": null,
   "metadata": {},
   "outputs": [],
   "source": [
    "!pip install pafy\n",
    "!pip install youtube-dl"
   ]
  },
  {
   "cell_type": "code",
   "execution_count": null,
   "metadata": {},
   "outputs": [],
   "source": [
    "import pafy\n",
    "import cv2\n",
    " \n",
    "url = \"https://www.youtube.com/watch?v=gdZLi9oWNZg\"\n",
    "video = pafy.new(url)\n",
    "\n",
    "print(\"video title : {}\".format(video.title))  # 제목\n",
    "print(\"video rating : {}\".format(video.rating))  # 평점\n",
    "print(\"video viewcount : {}\".format(video.viewcount))  # 조회수\n",
    "print(\"video author : {}\".format(video.author))  # 저작권자\n",
    "print(\"video length : {}\".format(video.length))  # 길이\n",
    "print(\"video duration : {}\".format(video.duration))  # 길이\n",
    "print(\"video likes : {}\".format(video.likes)) # 좋아요\n",
    "print(\"video dislikes : {}\".format(video.dislikes)) #싫어요\n",
    "\n",
    "best = video.getbest(preftype=\"mp4\")\n",
    "print(\"best resolution : {}\".format(best.resolution))\n",
    "\n",
    "cap = cv2.VideoCapture(best.url) \n",
    " \n",
    "# 동영상 크기(frame정보)를 읽어옴\n",
    "frameWidth = int(cap.get(cv2.CAP_PROP_FRAME_WIDTH))\n",
    "frameHeight = int(cap.get(cv2.CAP_PROP_FRAME_HEIGHT))\n",
    " \n",
    "# 동영상 프레임을 캡쳐\n",
    "frameRate = int(cap.get(cv2.CAP_PROP_FPS))\n",
    " \n",
    "frame_size = (frameWidth, frameHeight)\n",
    "print('frame_size={}'.format(frame_size))\n",
    "print('fps={}'.format(frameRate))\n",
    " \n",
    "# cv2.VideoWriter_fourcc(*'코덱')\n",
    "# codec 및 녹화 관련 설정\n",
    "# 인코딩 방식을 설정\n",
    "fourcc = cv2.VideoWriter_fourcc(*'XVID')\n",
    "#fourcc = cv2.VideoWriter_fourcc(*'DIVX')\n",
    "#fourcc = cv2.VideoWriter_fourcc(*'MPEG')\n",
    "#fourcc = cv2.VideoWriter_fourcc(*'X264')\n",
    " \n",
    "out1Path = 'data/recode1.mp4'\n",
    "out2Path = 'data/recode2.mp4'\n",
    " \n",
    "# 영상 저장하기\n",
    "# out1Path : 저장할 파일명\n",
    "# fourcc : frame 압축 관련 설정(인코딩, 코덱 등)\n",
    "# frameRate : 초당 저장할 frame\n",
    "# frame_size : frame 사이즈(가로, 세로)\n",
    "# isColor : 컬러 저장 여부\n",
    "out1 = cv2.VideoWriter(out1Path, fourcc, frameRate, frame_size)\n",
    "out2 = cv2.VideoWriter(out2Path, fourcc, frameRate, frame_size)\n",
    "\n",
    "while True:\n",
    "    # 한 장의 이미지를 가져오기\n",
    "    # 이미지 -> frame\n",
    "    # 정상적으로 읽어왔는지 -> retval\n",
    "    retval, frame = cap.read()\n",
    "    if not(retval):\n",
    "        break  # 프레임정보를 정상적으로 읽지 못하면 while문을 빠져나가기\n",
    "    \n",
    "    gray = cv2.cvtColor(frame, cv2.COLOR_BGR2GRAY)\t# 회색으로 컬러 변환\n",
    "    edges = cv2.Canny(gray, 100, 200)\t# Canny함수로 엣지 따기\n",
    "    \n",
    "    # 동영상 파일에 쓰기\n",
    "    out1.write(frame)\n",
    "    out2.write(edges)\n",
    "    \n",
    "    # 모니터에 출력\n",
    "    cv2.imshow('frame', frame)\n",
    "    cv2.imshow('edges', edges)\n",
    "    \n",
    "    key = cv2.waitKey(frameRate)  # frameRate msec동안 한 프레임을 보여준다\n",
    "    \n",
    "    # 키 입력을 받으면 키값을 key로 저장 -> esc == 27\n",
    "    if key == 27:\n",
    "        break\n",
    "        \n",
    "if cap.isOpened():\n",
    "    cap.release()\n",
    "    out1.release()\n",
    "    out2.release()\n",
    "    \n",
    "cv2.destroyAllWindows()"
   ]
  },
  {
   "cell_type": "markdown",
   "metadata": {},
   "source": [
    "- [Youtube to frames](https://github.com/arundasan91/Machine-Learning/blob/master/OpenCV/youtube-to-frames.py)"
   ]
  },
  {
   "cell_type": "code",
   "execution_count": null,
   "metadata": {},
   "outputs": [],
   "source": [
    "def video_to_frames_url_auto(url=None, folder='/home/cc/projects/'):\n",
    "    \"\"\"Function to extract frames from input video url or file and save them as separate frames \n",
    "    in an output directory. Output directory will be named starting from video_1. If a new file is downloaded,\n",
    "    a video_2 folder will be created and so on.\n",
    "    Dependencies: \n",
    "        OpenCV\n",
    "        youtube-dl (sudo pip install --upgrade youtube_dl)\n",
    "    \n",
    "    Args:\n",
    "        url: Youtube video URL.\n",
    "        folder: Directory to download and save each frames.\n",
    "        \n",
    "    Returns:\n",
    "        None\n",
    "        \n",
    "    Work to be done:\n",
    "    1. Handle exceptions\n",
    "    \"\"\"\n",
    "    import os\n",
    "    import re\n",
    "    import cv2\n",
    "    import time\n",
    "    \n",
    "    # Log start time\n",
    "    time_start = time.time()\n",
    "    \n",
    "    # To make a directory for saving video automatically considering all the existing foldernames\n",
    "    reg = re.compile(r'^video_')\n",
    "    lst = sorted(os.listdir(folder))\n",
    "    newlist = filter(reg.match, lst)\n",
    "    numbers = [reg.sub('', x).strip() for x in newlist]\n",
    "    results = map(int, numbers)\n",
    "    results = sorted(results)\n",
    "    newfile = results[-1] + 1\n",
    "    # Make a directory for the video\n",
    "    # If no video's exist as of now, create a folder.\n",
    "    if(results == None):\n",
    "        os.mkdir(\"video_1\")\n",
    "    # Create a folder according to the files that are already present.   \n",
    "    os.mkdir(\"video_\" + str(newfile))\n",
    "    \n",
    "    file_loc = folder + \"video_\" + str(newfile) + \"/video_\" + str(newfile) + \".mp4\"\n",
    "    # Download from local video file\n",
    "    if (url):\n",
    "        print(\"Downloading Youtube Video\")\n",
    "        os.system(\"youtube-dl -o \" + file_loc + \" -f mp4 \" + url)\n",
    "        cap = cv2.VideoCapture(file_loc)\n",
    "    else:\n",
    "        print(\"This is where I should raise an error. --EXCEPTION HANDLING--\")\n",
    "\n",
    "    video_length = int(cap.get(cv2.cv.CV_CAP_PROP_FRAME_COUNT)) - 1\n",
    "    print (\"Number of frames: \", video_length)\n",
    "    count = 0\n",
    "    print (\"Converting video..\\n\")\n",
    "    while cap.isOpened():\n",
    "        ret,frame = cap.read()\n",
    "\n",
    "        cv2.imwrite(folder + \"video_\" + str(newfile) + \"/%d.jpg\" % (count+1), frame)\n",
    "        count = count + 1\n",
    "        if (count > (video_length-1)):\n",
    "            time_end = time.time()\n",
    "            cap.release()\n",
    "            print \"Done extracting frames.\\n%d frames extracted\" %count\n",
    "            print \"It took %d seconds for conversion.\" %(time_end-time_start)\n",
    "            break"
   ]
  },
  {
   "cell_type": "markdown",
   "metadata": {},
   "source": [
    "- [Youtube capture frames](https://github.com/qaixerabbas/youtube-frame-capture/blob/master/youtube_videos_capture_frames.py)"
   ]
  },
  {
   "cell_type": "code",
   "execution_count": null,
   "metadata": {},
   "outputs": [],
   "source": [
    "!pip install vidgear"
   ]
  },
  {
   "cell_type": "code",
   "execution_count": null,
   "metadata": {},
   "outputs": [],
   "source": [
    "### Capturing images from YouTube videos without downloading Video using Python's VidGear Module\n",
    "## pip install vidgear\n",
    "import cv2\n",
    "import os\n",
    "from vidgear.gears import CamGear\n",
    "### Replace this youtube video link with your one\n",
    "stream = CamGear(source='https://www.youtube.com/watch?v=lQc432kUOpM', y_tube =True,  time_delay=1, logging=True).start()\n",
    "\n",
    "#this should be the path where u want ur images\n",
    "path  = 'C:\\\\Users\\\\user\\\\Desktop\\\\Capture Frames from Online YouTube Video\\\\cars\\\\'\n",
    "\n",
    "currentframe = 0\n",
    "while True:\n",
    "\n",
    "    frame = stream.read() ### using functions from vidGear module\n",
    "    if frame is None:\n",
    "        break\n",
    "\n",
    "    cv2.imshow(\"Output Frame\", frame) # optional if u want to show the frames\n",
    "\n",
    "    name = path + './frames' + str(currentframe) + '.jpg'\n",
    "    print ('Creating...' + name) \n",
    "\n",
    "    cv2.imwrite(name, frame)\n",
    "    currentframe += 5 ##chnage 5 with the number of frames. Here 5 means capture frame after every 5 frames\n",
    "    ###usually videos are 30fps so if here 30 is provided a frame will be captures after every second.\n",
    "\n",
    "    key = cv2.waitKey(1) & 0xFF\n",
    "\n",
    "    if key == ord(\"q\"):\n",
    "        break\n",
    "\n",
    "cv2.destroyAllWindows()\n",
    "stream.stop()\n",
    "stream.stop()"
   ]
  },
  {
   "cell_type": "markdown",
   "metadata": {},
   "source": [
    "## Video Preprocessing"
   ]
  },
  {
   "cell_type": "markdown",
   "metadata": {},
   "source": [
    "1. 영상 프레임별 캡처\n",
    "2. 영상 텐서 변환"
   ]
  },
  {
   "cell_type": "markdown",
   "metadata": {},
   "source": [
    "- 영상 프레임별 캡처"
   ]
  },
  {
   "cell_type": "code",
   "execution_count": null,
   "metadata": {},
   "outputs": [],
   "source": [
    "def vid2Frame(vid_file, save_dir):\n",
    "    v_cap = cv2.VideoCapture(os.path.join(os.path.curdir, vid_file))\n",
    "\n",
    "    cnt = 0\n",
    "    while v_cap.isOpened():\n",
    "        success, image = v_cap.read()  # BGR\n",
    "\n",
    "        if success and int(v_cap.get(1)) % 10 == 0:\n",
    "            image = cv2.cvtColor(image, cv2.COLOR_BGR2GRAY)  # GRAY\n",
    "            image = cv2.resize(image, dsize=(1600, 1200), interpolation=cv2.INTER_LINEAR)  # (1920, 1080)\n",
    "            cv2.imwrite(os.path.join(os.path.curdir, 'capture', '%d.png' % v_cap.get(1)), image)\n",
    "            print(\"Frame Captured: %d\" % v_cap.get(1))\n",
    "            cnt += 1\n",
    "\n",
    "    v_cap.release()\n"
   ]
  },
  {
   "cell_type": "markdown",
   "metadata": {},
   "source": [
    "- 영상 텐서 변환"
   ]
  },
  {
   "cell_type": "code",
   "execution_count": null,
   "metadata": {},
   "outputs": [],
   "source": [
    "def vid2tensor():\n",
    "    pass"
   ]
  },
  {
   "cell_type": "code",
   "execution_count": null,
   "metadata": {},
   "outputs": [],
   "source": [
    "def img2np():\n",
    "    pass"
   ]
  },
  {
   "cell_type": "markdown",
   "metadata": {},
   "source": [
    "## Augmentation"
   ]
  },
  {
   "cell_type": "markdown",
   "metadata": {},
   "source": [
    "- imgaug 사용 [참고](https://junyoung-jamong.github.io/machine/learning/2019/01/23/%EB%B0%94%EC%9A%B4%EB%94%A9%EB%B0%95%EC%8A%A4%EB%A5%BC-%ED%8F%AC%ED%95%A8%ED%95%9C-%EC%9D%B4%EB%AF%B8%EC%A7%80-%EC%A6%9D%ED%8F%AD%EC%8B%9C%ED%82%A4%EA%B8%B0-with-imgaug.html)\n",
    "    - Annotation을 포함한 이미지 증폭을 수행 => 모든 객체의 Bounding-box를 함께 회전\n",
    "    - ![](https://junyoung-jamong.github.io/assets/image/how_to_use_imgaug/img1.png)"
   ]
  },
  {
   "cell_type": "code",
   "execution_count": null,
   "metadata": {},
   "outputs": [],
   "source": [
    "# 사용 방법 더 찾아볼 것"
   ]
  },
  {
   "cell_type": "markdown",
   "metadata": {},
   "source": [
    "- 일반적인 augmentation"
   ]
  },
  {
   "cell_type": "code",
   "execution_count": null,
   "metadata": {},
   "outputs": [],
   "source": [
    "def data_augmentation(image, mode):\n",
    "    if mode == 0:\n",
    "        # original\n",
    "        return image\n",
    "    elif mode == 1:\n",
    "        # flip up and down\n",
    "        return np.flipud(image)\n",
    "    elif mode == 2:\n",
    "        # rotate counterwise 90 degree\n",
    "        return np.rot90(image)\n",
    "    elif mode == 3:\n",
    "        # rotate 90 degree and flip up and down\n",
    "        image = np.rot90(image)\n",
    "        return np.flipud(image)\n",
    "    elif mode == 4:\n",
    "        # rotate 180 degree\n",
    "        return np.rot90(image, k=2)\n",
    "    elif mode == 5:\n",
    "        # rotate 180 degree and flip\n",
    "        image = np.rot90(image, k=2)\n",
    "        return np.flipud(image)\n",
    "    elif mode == 6:\n",
    "        # rotate 270 degree\n",
    "        return np.rot90(image, k=3)\n",
    "    elif mode == 7:\n",
    "        # rotate 270 degree and flip\n",
    "        image = np.rot90(image, k=3)\n",
    "        return np.flipud(image)\n",
    "\n",
    "def load_images(file):\n",
    "    im = Image.open(file)\n",
    "    return np.array(im, dtype=\"float32\") / 255.0\n",
    "\n",
    "def save_images(filepath, result_1, result_2 = None):\n",
    "    result_1 = np.squeeze(result_1)\n",
    "    result_2 = np.squeeze(result_2)\n",
    "\n",
    "    if not result_2.any():\n",
    "        cat_image = result_1\n",
    "    else:\n",
    "        cat_image = np.concatenate([result_1, result_2], axis = 1)\n",
    "\n",
    "    im = Image.fromarray(np.clip(cat_image * 255.0, 0, 255.0).astype('uint8'))\n",
    "    im.save(filepath, 'png')"
   ]
  },
  {
   "cell_type": "markdown",
   "metadata": {},
   "source": [
    "## Crop"
   ]
  },
  {
   "cell_type": "markdown",
   "metadata": {},
   "source": [
    "### AI HUB json 활용"
   ]
  },
  {
   "cell_type": "code",
   "execution_count": null,
   "metadata": {},
   "outputs": [],
   "source": [
    "# 위에서 json 파싱해서 bbox 위치 구해서 crop"
   ]
  },
  {
   "cell_type": "markdown",
   "metadata": {},
   "source": [
    "### dlib 활용"
   ]
  },
  {
   "cell_type": "markdown",
   "metadata": {},
   "source": [
    "#### 이미지"
   ]
  },
  {
   "cell_type": "markdown",
   "metadata": {},
   "source": [
    "- 얼굴 찾기"
   ]
  },
  {
   "cell_type": "code",
   "execution_count": null,
   "metadata": {},
   "outputs": [],
   "source": [
    "# 이미지 읽기\n",
    "my_image_path = 'images/image.jpg'\n",
    "img_bgr = cv2.imread(my_image_path)    # OpenCV로 이미지를 불러옵니다\n",
    "img_show = img_bgr.copy()      # 출력용 이미지를 따로 보관합니다\n",
    "\n",
    "img_rgb = cv2.cvtColor(img_bgr, cv2.COLOR_BGR2RGB)\n",
    "\n",
    "plt.imshow(img_bgr)\n",
    "plt.show()"
   ]
  },
  {
   "cell_type": "code",
   "execution_count": null,
   "metadata": {},
   "outputs": [],
   "source": [
    "detector_hog = dlib.get_frontal_face_detector()\n",
    "dlib_rects = detector_hog(img_rgb, 1)   # (image, num of image pyramid)"
   ]
  },
  {
   "cell_type": "code",
   "execution_count": null,
   "metadata": {},
   "outputs": [],
   "source": [
    "# 찾은 얼굴 영역 박스 리스트\n",
    "# 여러 얼굴이 있을 수 있습니다\n",
    "print(dlib_rects)   \n",
    "\n",
    "for dlib_rect in dlib_rects:\n",
    "    l = dlib_rect.left()\n",
    "    t = dlib_rect.top()\n",
    "    r = dlib_rect.right()\n",
    "    b = dlib_rect.bottom()\n",
    "\n",
    "    cv2.rectangle(img_show, (l,t), (r,b), (0,255,0), 2, lineType=cv2.LINE_AA)\n",
    "\n",
    "img_show_rgb =  cv2.cvtColor(img_show, cv2.COLOR_BGR2RGB)\n",
    "plt.imshow(img_show_rgb)\n",
    "plt.show()"
   ]
  },
  {
   "cell_type": "code",
   "execution_count": null,
   "metadata": {},
   "outputs": [],
   "source": [
    "face_landmark_model_path = \"models/shape_predictor_68_face_landmarks.dat\"\n",
    "predictor = dlib.shape_predictor(face_landmark_model_path)"
   ]
  },
  {
   "cell_type": "markdown",
   "metadata": {},
   "source": [
    "- 입술 찾기\n",
    "    - 번호 확인<br>![](https://camo.githubusercontent.com/8db3b9fba6dcb44f527a98e3a2f1ebeffcfbb3ad421c05e476d1c2c88f1fe254/68747470733a2f2f6433733074736b6166616c6c6c392e636c6f756466726f6e742e6e65742f6d656469612f6f726967696e616c5f696d616765732f452d382d382e706e67)\n",
    "    - 입술 번호: 48 ~ 67\n",
    "    - [코드 참고](https://github.com/dnwjddl/LipReading_Korean/blob/master/data/Preprocessing_dataset.ipynb)"
   ]
  },
  {
   "cell_type": "code",
   "execution_count": null,
   "metadata": {},
   "outputs": [],
   "source": [
    "def shape_to_np(shape, dtype=\"int\"):\n",
    "    # initialize the list of (x, y)-coordinates\n",
    "    coords = np.zeros((20, 2), dtype=dtype)\n",
    "    # for only lip landmarks (48 ~ 67)\n",
    "    n = 0\n",
    "    for i in range(48, shape.num_parts):\n",
    "        coords[n] = (shape.part(i).x, shape.part(i).y)\n",
    "        n += 1\n",
    "\n",
    "    # return the list of (x, y)-coordinates\n",
    "    return coords"
   ]
  },
  {
   "cell_type": "code",
   "execution_count": null,
   "metadata": {},
   "outputs": [],
   "source": [
    "faces = f'datasets/mouth/Crop'\n",
    "for jpg in os.listdir(faces):\n",
    "    if jpg[3:6] not in ['_0.', '_1.', '_2.', '_3.', '_4.']:\n",
    "        pass\n",
    "    else:\n",
    "        dir = f'{faces}/{i}'\n",
    "        src = cv2.imread(dir, cv2.IMREAD_COLOR)\n",
    "        img_gray = cv2.cvtColor(src, cv2.COLOR_BGR2GRAY)\n",
    "        face_detector = detector_hog(img_gray, 1)\n",
    "        for face in face_detector:\n",
    "            landmarks = predictor(src, face)\n",
    "            landmarks = shape_to_np(landmarks)\n",
    "            print(\"gotfaces!\")"
   ]
  },
  {
   "cell_type": "markdown",
   "metadata": {},
   "source": [
    "- 입술 crop"
   ]
  },
  {
   "cell_type": "code",
   "execution_count": null,
   "metadata": {},
   "outputs": [],
   "source": [
    "# crop 후 저장"
   ]
  },
  {
   "cell_type": "markdown",
   "metadata": {},
   "source": [
    "#### 영상"
   ]
  },
  {
   "cell_type": "markdown",
   "metadata": {},
   "source": [
    "- 얼굴/입술 찾기"
   ]
  },
  {
   "cell_type": "code",
   "execution_count": null,
   "metadata": {},
   "outputs": [],
   "source": [
    "!pip install sk-video"
   ]
  },
  {
   "cell_type": "code",
   "execution_count": null,
   "metadata": {},
   "outputs": [],
   "source": [
    "import dlib\n",
    "import skvideo.io\n",
    "import cv2\n",
    "\n",
    "## face detector와 landmark predictor 정의\n",
    "detector = dlib.get_frontal_face_detector()\n",
    "predictor = dlib.shape_predictor(\"shape_predictor_68_face_landmarks.dat\")\n",
    "\n",
    "## 비디오 읽어오기\n",
    "cap = skvideo.io.vreader('test.mp4')\n",
    "\n",
    "## 각 frame마다 얼굴 찾고, landmark 찍기\n",
    "for frame in cap:    \n",
    "    img = cv2.cvtColor(frame, cv2.COLOR_RGB2BGR)\n",
    "    r = 200. / img.shape[1]\n",
    "    dim = (200, int(img.shape[0] * r))    \n",
    "    resized = cv2.resize(img, dim, interpolation = cv2.INTER_AREA)\n",
    "    rects = detector(resized, 1)\n",
    "    for i, rect in enumerate(rects):\n",
    "        l = rect.left()\n",
    "        t = rect.top()\n",
    "        b = rect.bottom()\n",
    "        r = rect.right()\n",
    "        shape = predictor(resized, rect)\n",
    "        # for j in range(68):  # Face Detection\n",
    "        for j in range(48, 68):  # Mouth Detection\n",
    "            x, y = shape.part(j).x, shape.part(j).y\n",
    "            cv2.circle(resized, (x, y), 1, (0, 0, 255), -1)\n",
    "        cv2.rectangle(resized, (l, t), (r, b), (0, 255, 0), 2)\n",
    "        cv2.imshow('frame', resized)\n",
    "        if cv2.waitKey(1) & 0xFF == ord('q'):\n",
    "            break\n",
    "cv2.destroyAllWindows()"
   ]
  },
  {
   "cell_type": "markdown",
   "metadata": {},
   "source": [
    "- 입술 crop"
   ]
  },
  {
   "cell_type": "code",
   "execution_count": null,
   "metadata": {},
   "outputs": [],
   "source": [
    "# crop 후 저장"
   ]
  }
 ],
 "metadata": {
  "interpreter": {
   "hash": "b3ce9abe337a9e694d01ea52d504102083454ad8bd4b0e3a574e4432f4229329"
  },
  "kernelspec": {
   "display_name": "Python 3.8.12 ('aiffel_3.8')",
   "language": "python",
   "name": "python3"
  },
  "language_info": {
   "codemirror_mode": {
    "name": "ipython",
    "version": 3
   },
   "file_extension": ".py",
   "mimetype": "text/x-python",
   "name": "python",
   "nbconvert_exporter": "python",
   "pygments_lexer": "ipython3",
   "version": "3.8.0"
  },
  "orig_nbformat": 4
 },
 "nbformat": 4,
 "nbformat_minor": 2
}
